{
 "cells": [
  {
   "cell_type": "code",
   "execution_count": 10,
   "metadata": {},
   "outputs": [],
   "source": [
    "import re\n",
    "import string\n",
    "import nltk\n",
    "from nltk.stem import WordNetLemmatizer\n",
    "from nltk.corpus import stopwords\n",
    "\n",
    "from nltk.tokenize import word_tokenize\n",
    "from nltk.tokenize import TreebankWordTokenizer\n",
    "\n",
    "\n"
   ]
  },
  {
   "cell_type": "code",
   "execution_count": 11,
   "metadata": {},
   "outputs": [
    {
     "name": "stderr",
     "output_type": "stream",
     "text": [
      "[nltk_data] Downloading package stopwords to\n",
      "[nltk_data]     /home/codespace/nltk_data...\n",
      "[nltk_data]   Package stopwords is already up-to-date!\n",
      "[nltk_data] Downloading package wordnet to\n",
      "[nltk_data]     /home/codespace/nltk_data...\n",
      "[nltk_data]   Package wordnet is already up-to-date!\n",
      "[nltk_data] Downloading package omw-1.4 to\n",
      "[nltk_data]     /home/codespace/nltk_data...\n",
      "[nltk_data]   Package omw-1.4 is already up-to-date!\n",
      "[nltk_data] Downloading package punkt to /home/codespace/nltk_data...\n",
      "[nltk_data]   Package punkt is already up-to-date!\n"
     ]
    }
   ],
   "source": [
    "# Baixar recursos necessários do NLTK\n",
    "nltk.download('stopwords', download_dir='/home/codespace/nltk_data')\n",
    "nltk.download('wordnet', download_dir='/home/codespace/nltk_data')\n",
    "nltk.download('omw-1.4', download_dir='/home/codespace/nltk_data')  # Open Multilingual WordNet\n",
    "nltk.data.path.append('/home/codespace/nltk_data')\n",
    "nltk.download('punkt', quiet=False)\n",
    "nltk.data.path.append('/home/codespace/nltk_data')"
   ]
  },
  {
   "cell_type": "code",
   "execution_count": 12,
   "metadata": {},
   "outputs": [],
   "source": [
    "def basic_cleaning(text):\n",
    "    # Converter para minúsculas\n",
    "    text = text.lower()\n",
    "    \n",
    "    # Remover pontuações\n",
    "    text = text.translate(str.maketrans('', '', string.punctuation))\n",
    "    \n",
    "    # Remover números\n",
    "    text = re.sub(r'\\d+', '', text)\n",
    "    \n",
    "    # Remover espaços extras\n",
    "    text = re.sub(r'\\s+', ' ', text).strip()\n",
    "    \n",
    "    return text"
   ]
  },
  {
   "cell_type": "code",
   "execution_count": 13,
   "metadata": {},
   "outputs": [],
   "source": [
    "def tokanize_text(text):\n",
    "    \"\"\"\n",
    "    Tokeniza o texto em palavras\n",
    "    \"\"\"\n",
    "\n",
    "    text = basic_cleaning(text)\n",
    "  \n",
    "    tokenizer = TreebankWordTokenizer()\n",
    "\n",
    "    word_tokens = tokenizer.tokenize(text)\n",
    "    \n",
    "    \n",
    "    return word_tokens"
   ]
  },
  {
   "cell_type": "code",
   "execution_count": 14,
   "metadata": {},
   "outputs": [],
   "source": [
    "def remove_stopwords(tokens):\n",
    "    \"\"\"\n",
    "    Remove stopwords da lista de tokens\n",
    "    \"\"\"\n",
    "    stop_words = set(stopwords.words('english'))\n",
    "    return [word for word in tokens if word not in stop_words]"
   ]
  },
  {
   "cell_type": "code",
   "execution_count": 15,
   "metadata": {},
   "outputs": [],
   "source": [
    "def lemmatize_tokens(frases):\n",
    "    tokens_no_stopwords_total = []\n",
    "    for text in frases:\n",
    "        text_cleaned = basic_cleaning(text)\n",
    "        tokens = tokanize_text(text_cleaned)\n",
    "        tokens_no_stopwords = remove_stopwords(tokens)\n",
    "        tokens_no_stopwords_total.extend(tokens_no_stopwords)\n",
    "        \n",
    "     \n",
    "        lemmatizer = WordNetLemmatizer()\n",
    "    return [lemmatizer.lemmatize(token) for token in tokens_no_stopwords_total]"
   ]
  },
  {
   "cell_type": "code",
   "execution_count": 16,
   "metadata": {},
   "outputs": [
    {
     "name": "stdout",
     "output_type": "stream",
     "text": [
      "['child', 'playing', 'leaf', 'yesterday', 'study', 'computer', 'science', 'taking', 'three', 'course', 'wolf', 'howled', 'moon', 'mouse', 'scurried', 'grass', 'driving', 'faster', 'car', 'around', 'chef', 'used', 'sharp', 'knife', 'prepare', 'tastiest', 'dish']\n"
     ]
    }
   ],
   "source": [
    "frase1= \"The children were playing in the leaves yesterday.\"\n",
    "frase2= \"She studies computer science and is taking three courses.\"\n",
    "frase3= \"The wolves howled at the moon while mice scurried in the grass.\"\n",
    "frase4= \"He was driving faster than the cars around him.\"\n",
    "frase5= \"The chefs used sharp knives to prepare the tastiest dishes.\"\n",
    "\n",
    "frases = [frase1, frase2, frase3, frase4, frase5]\n",
    "\n",
    "frase_lematizada = lemmatize_tokens(frases)\n",
    "print(frase_lematizada)"
   ]
  }
 ],
 "metadata": {
  "kernelspec": {
   "display_name": "Python 3",
   "language": "python",
   "name": "python3"
  },
  "language_info": {
   "codemirror_mode": {
    "name": "ipython",
    "version": 3
   },
   "file_extension": ".py",
   "mimetype": "text/x-python",
   "name": "python",
   "nbconvert_exporter": "python",
   "pygments_lexer": "ipython3",
   "version": "3.12.1"
  }
 },
 "nbformat": 4,
 "nbformat_minor": 2
}
